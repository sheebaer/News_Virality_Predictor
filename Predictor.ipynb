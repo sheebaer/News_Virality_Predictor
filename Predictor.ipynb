{
 "cells": [
  {
   "cell_type": "code",
   "execution_count": 112,
   "metadata": {},
   "outputs": [],
   "source": [
    "from bs4 import * # Importing BeautifulSoup\n",
    "import requests as rq \n",
    "from newspaper import Article # Importing newspaper3k\n",
    "import json\n",
    "import nltk # Importing nltk for NLP\n",
    "from datetime import datetime\n",
    "import pandas as pd\n",
    "import numpy as np\n",
    "from sklearn.cluster import KMeans\n",
    "import matplotlib.pyplot as plt"
   ]
  },
  {
   "cell_type": "code",
   "execution_count": 2,
   "metadata": {},
   "outputs": [
    {
     "name": "stdout",
     "output_type": "stream",
     "text": [
      "[nltk_data] Downloading package punkt to\n",
      "[nltk_data]     C:\\Users\\Anicha\\AppData\\Roaming\\nltk_data...\n",
      "[nltk_data]   Package punkt is already up-to-date!\n"
     ]
    },
    {
     "data": {
      "text/plain": [
       "True"
      ]
     },
     "execution_count": 2,
     "metadata": {},
     "output_type": "execute_result"
    }
   ],
   "source": [
    "nltk.download('punkt')"
   ]
  },
  {
   "cell_type": "code",
   "execution_count": 102,
   "metadata": {},
   "outputs": [],
   "source": [
    "# Fetching URLs for all the news from Indian Express website\n",
    "r = rq.get(\"https://indianexpress.com/section/india/\")\n",
    "soup = BeautifulSoup(r.text, \"html.parser\")\n",
    "ind_exp = []\n",
    "for value in soup.find_all(\"a\"):\n",
    "    ind_exp.append(value.get('href'))"
   ]
  },
  {
   "cell_type": "code",
   "execution_count": 104,
   "metadata": {},
   "outputs": [],
   "source": [
    "ind_exp_final = []"
   ]
  },
  {
   "cell_type": "code",
   "execution_count": 105,
   "metadata": {},
   "outputs": [],
   "source": [
    "# Data Cleaning\n",
    "# This is to remove any links that belong to advertisments, etc.\n",
    "for link in ind_exp:\n",
    "    if(link.startswith('https://indianexpress.com/article')):\n",
    "        ind_exp_final.append(link)"
   ]
  },
  {
   "cell_type": "code",
   "execution_count": 133,
   "metadata": {},
   "outputs": [],
   "source": [
    "# Iterating through the list of links and using the newspaper module to obtain information about each article\n",
    "data = []\n",
    "for link in ind_exp_final:\n",
    "    article = Article(link)\n",
    "    article.download()\n",
    "    article.parse()\n",
    "    article.nlp()\n",
    "    data.append({\n",
    "        \"title\": article.title,\n",
    "        \"authors\": article.authors,\n",
    "        \"publish_date\": str(article.publish_date),\n",
    "        \"keywords\": article.keywords,\n",
    "    }\n",
    "                     )"
   ]
  },
  {
   "cell_type": "code",
   "execution_count": 109,
   "metadata": {},
   "outputs": [],
   "source": [
    "# Storing all the data collected in a JSON file\n",
    "with open ('data_ind_exp2.json', 'w') as outfile:\n",
    "    json.dump(data, outfile)"
   ]
  },
  {
   "cell_type": "code",
   "execution_count": 118,
   "metadata": {},
   "outputs": [],
   "source": [
    "# I converted the JSON to CSV on https://json-csv.com/ and used the resultant CSV file (I can directly use JSON to create the \n",
    "# dataframe, but this CSV convertor splits the keywords list automatically, \n",
    "# so it will reduce some steps in my data cleaning process)\n",
    "df2 = pd.read_csv('data2.csv') \n",
    "# Most of the articles have only 12 keywords, so dropping the rest of the columns\n",
    "df3 = df2.drop(['keywords__013','keywords__014','keywords__015','keywords__016','keywords__017','keywords__018','keywords__019','keywords__020'], axis=1)\n",
    "# Newspaper hasn't been able to retrieve authors for most of the articles. So dropping authors\n",
    "df4 = df3.drop(['authors__001','authors__002','authors__003'], axis=1)\n",
    "# When I used BeautifulSoup to retrieve the links, some of them were repeated. So, removing duplicates\n",
    "df4.drop_duplicates(subset= 'title',keep='first',inplace=True)\n",
    "# Title and keywords have most of the same words. So, dropping title\n",
    "df5 = df4.drop(['title'],axis=1)"
   ]
  },
  {
   "cell_type": "code",
   "execution_count": 134,
   "metadata": {},
   "outputs": [],
   "source": [
    "# Splitting the date into year, month, day and hour for easy interpretation\n",
    "publish_year = []\n",
    "publish_month = []\n",
    "publish_day = []\n",
    "publish_hour = []\n",
    "\n",
    "for date in df5['publish_date']:\n",
    "    date = date.strip('+05:30')\n",
    "    date_split = date.split(\":\")\n",
    "    new_date = date_split[0]\n",
    "    display(new_date)\n",
    "    date =  datetime.strptime(new_date, '%Y-%m-%d %H')\n",
    "    publish_year.append(date.year)\n",
    "    publish_month.append(date.month)\n",
    "    publish_day.append(date.day)\n",
    "    publish_hour.append(date.hour)\n",
    "df5['publish_year'] = publish_year\n",
    "df5['publish_month'] = publish_month\n",
    "df5['publish_day'] = publish_day\n",
    "df5['publish_hour'] = publish_hour\n",
    "df5.head()\n",
    "df6 = df5.drop(['publish_date'],axis = 1)"
   ]
  },
  {
   "cell_type": "code",
   "execution_count": 121,
   "metadata": {},
   "outputs": [],
   "source": [
    "# Making a dictonary of all the unique keywords encountered. The word is used as the key and a number is allotted to it as its value\n",
    "words = np.concatenate((df6['keywords__001'].values,df6['keywords__002'].values,df6['keywords__003'].values,df6['keywords__004'].values,df6['keywords__005'].values,df6['keywords__006'].values,df6['keywords__007'].values,df6['keywords__008'].values,df6['keywords__009'].values,df6['keywords__010'].values,df6['keywords__011'].values,df6['keywords__012'].values))\n",
    "i = 1\n",
    "dict = {}\n",
    "for word in words:\n",
    "    dict.update({word: i})  # This adds to the dictionary and if a key that has already been assigned is encountered, then it updates the value\n",
    "    i+=1"
   ]
  },
  {
   "cell_type": "code",
   "execution_count": 123,
   "metadata": {},
   "outputs": [],
   "source": [
    "# All the keywords in the dataframe are replaced with the number that has been allotted to them in dict\n",
    "df7 = df6.applymap(lambda s: dict.get(s) if s in dict else s)"
   ]
  },
  {
   "cell_type": "code",
   "execution_count": 125,
   "metadata": {},
   "outputs": [],
   "source": [
    "# Normalizing all the data in the dataframe\n",
    "df8=(df7-df7.mean())/df7.std() "
   ]
  },
  {
   "cell_type": "code",
   "execution_count": 128,
   "metadata": {},
   "outputs": [],
   "source": [
    "# Applying the K-Means Clustering algorithm\n",
    "dataset = df8.values # Converting the dataframe into a matrix because KMeans deals only with matrices\n",
    "kmeans = KMeans(n_clusters=2) # Initiating KMeans by feeding number of clusters\n",
    "kmeans.fit(dataset) # Supplying the data set that it has to fit for\n",
    "labels = kmeans.labels_ # The array of predictions. All the data points have been allotted either 1 or 0\n",
    "results = pd.DataFrame([df8.index,labels]).T # A dataframe displaying the index number and the corresponding label"
   ]
  },
  {
   "cell_type": "code",
   "execution_count": 139,
   "metadata": {},
   "outputs": [
    {
     "data": {
      "image/png": "[encoded data removed]",
      "text/plain": [
       "<Figure size 432x288 with 1 Axes>"
      ]
     },
     "metadata": {
      "needs_background": "light"
     },
     "output_type": "display_data"
    }
   ],
   "source": [
    "# Scatter plot of the clusters. y-axis: normalized value corresponding to keyword__012: x-axis: index number. \n",
    "plt.scatter(results.values[:, 0], dataset[:, 11], c=labels, s=50, cmap='viridis')\n",
    "\n",
    "centers = kmeans.cluster_centers_\n",
    "plt.scatter(centers[:, 0], centers[:, 1], c='black', s=200, alpha=0.5);"
   ]
  },
  {
   "cell_type": "code",
   "execution_count": null,
   "metadata": {},
   "outputs": [],
   "source": [
    "# Now to be able to predict which of these clusters corresponds to articles that will go viral and which corresponds to articles \n",
    "# that won't, I have made an assumption that articles related to the coronavirus are probably more viewed than the others. \n",
    "# Looking at dict to find the value corresponding to coronavirus, and looking at the occurrence of it in df7, \n",
    "# I observed that the first article's keyword__012 is coronavirus.\n",
    "# Looking at df8, this corresponds to a normalized value of around -2.\n",
    "# So, in our scatter plot, the region near (0,-2) represents that article. \n",
    "# This region is mostly surrounded by yellow spots. So, I have concluded that the yellow spots correspond to viral articles. \n",
    "# This corresonds to a label of 1.\n",
    "# Therefore, those articles that are labelled 1 (yellow) are the ones that my model preicts to be viral."
   ]
  },
  {
   "cell_type": "code",
   "execution_count": null,
   "metadata": {},
   "outputs": [],
   "source": [
    "# Of course many assumptions have been made here and this prediction may not be totally true. \n",
    "# Some major drawbacks of my approach:\n",
    "# I have taken data only from one website. This is not an ideal data set and an ideal data set needs to have more diversity\n",
    "# A few more parameters should ideally be considered when trying to find out if a certain article is viral or not. \n",
    "# Authors and titles will have a big role to play, but have not been used here for the reasons stated above.\n",
    "# Before concluding that the label 1 corresponds to viral articles, a little more testing should be done. \n",
    "# Feeding in articles that we know for a fact have gone viral, and checking the accuracy of the prediction is something that \n",
    "# can be done."
   ]
  }
 ],
 "metadata": {
  "kernelspec": {
   "display_name": "Python 3",
   "language": "python",
   "name": "python3"
  },
  "language_info": {
   "codemirror_mode": {
    "name": "ipython",
    "version": 3
   },
   "file_extension": ".py",
   "mimetype": "text/x-python",
   "name": "python",
   "nbconvert_exporter": "python",
   "pygments_lexer": "ipython3",
   "version": "3.7.0"
  }
 },
 "nbformat": 4,
 "nbformat_minor": 2
}
